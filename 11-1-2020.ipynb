{
 "cells": [
  {
   "cell_type": "markdown",
   "metadata": {},
   "source": [
    "## File Handling\n",
    "1.  File is a collection of record,record is a collection of data and data is a collection of bytes.\n",
    "### File Operations\n",
    "1. open()\n",
    "2. close()\n",
    "### Modes\n",
    "1. read()\n",
    "2. write()\n",
    "3. append()"
   ]
  },
  {
   "cell_type": "code",
   "execution_count": 2,
   "metadata": {},
   "outputs": [
    {
     "name": "stdout",
     "output_type": "stream",
     "text": [
      "welcome to world\n",
      "hai \n",
      "bye\n"
     ]
    }
   ],
   "source": [
    "f=open(\"data.txt\")\n",
    "fh=f.read()\n",
    "print(fh)\n",
    "f.close()\n"
   ]
  },
  {
   "cell_type": "code",
   "execution_count": 4,
   "metadata": {},
   "outputs": [
    {
     "name": "stdout",
     "output_type": "stream",
     "text": [
      "welcome to world\n",
      "hai \n",
      "bye\n"
     ]
    }
   ],
   "source": [
    "with open(\"data.txt\")as f:\n",
    "    fh=f.read()\n",
    "    print(fh)"
   ]
  },
  {
   "cell_type": "code",
   "execution_count": 4,
   "metadata": {},
   "outputs": [
    {
     "name": "stdout",
     "output_type": "stream",
     "text": [
      "18\n"
     ]
    }
   ],
   "source": [
    "with open(\"data.txt\",'a')as f:\n",
    "    fh = f.write(\"Python programming\")\n",
    "    print(fh)"
   ]
  },
  {
   "cell_type": "code",
   "execution_count": 5,
   "metadata": {},
   "outputs": [],
   "source": [
    "f=open(\"data1.txt\")\n",
    "fh=f.read()\n",
    "c=w=ch=0\n",
    "for i in f:\n",
    "    c+=1\n",
    "    for j in i:\n",
    "        if j==\"\\n\":\n",
    "            w+=1\n",
    "            if j.isalnum():\n",
    "                ch+=1\n",
    "    print(c,w,ch) "
   ]
  },
  {
   "cell_type": "code",
   "execution_count": 6,
   "metadata": {},
   "outputs": [
    {
     "name": "stdout",
     "output_type": "stream",
     "text": [
      "p\n",
      "y\n"
     ]
    }
   ],
   "source": [
    "# Iterators - iter(), next()\n",
    "k = iter(\"python\")\n",
    "print(next(k))\n",
    "print(next(k))"
   ]
  },
  {
   "cell_type": "code",
   "execution_count": 8,
   "metadata": {},
   "outputs": [
    {
     "name": "stdout",
     "output_type": "stream",
     "text": [
      "amurutha\n"
     ]
    }
   ],
   "source": [
    "l=[\"amurutha\",\"anusha\",\"sirisha\"]\n",
    "k=iter(l)\n",
    "print(next(k))"
   ]
  },
  {
   "cell_type": "code",
   "execution_count": 10,
   "metadata": {},
   "outputs": [
    {
     "name": "stdout",
     "output_type": "stream",
     "text": [
      "1\n",
      "2\n",
      "3\n"
     ]
    }
   ],
   "source": [
    "## generators\n",
    "def genfunction():\n",
    "    yield 1\n",
    "    yield 2\n",
    "    yield 3\n",
    "for i in genfunction():\n",
    "    print(i)"
   ]
  },
  {
   "cell_type": "code",
   "execution_count": 12,
   "metadata": {},
   "outputs": [
    {
     "name": "stdout",
     "output_type": "stream",
     "text": [
      "27\n",
      "19683\n",
      "7625597484987\n"
     ]
    }
   ],
   "source": [
    "def cube():\n",
    "    n=3\n",
    "    while True:\n",
    "        n=n**3\n",
    "        yield n\n",
    "a=cube()\n",
    "for i in range(3):\n",
    "    print(next(a))"
   ]
  },
  {
   "cell_type": "code",
   "execution_count": 18,
   "metadata": {},
   "outputs": [
    {
     "name": "stdout",
     "output_type": "stream",
     "text": [
      "enter1 2 3 4\n"
     ]
    },
    {
     "data": {
      "text/plain": [
       "[1, 2, 3, 4]"
      ]
     },
     "execution_count": 18,
     "metadata": {},
     "output_type": "execute_result"
    }
   ],
   "source": [
    "# map\n",
    "l=input(\"enter\").split()\n",
    "k=list(map(int,l))\n",
    "k"
   ]
  },
  {
   "cell_type": "code",
   "execution_count": 3,
   "metadata": {},
   "outputs": [
    {
     "name": "stdout",
     "output_type": "stream",
     "text": [
      "[25, 49, 81]\n",
      "[1, 36, 16]\n"
     ]
    }
   ],
   "source": [
    "def squa(n):\n",
    "    n = n**2\n",
    "    return n\n",
    "k=list(map(squa,[1,6,4]))\n",
    "li=[5,7,9]\n",
    "k1=list(map(squa,li))\n",
    "print(k1)\n",
    "print(k)"
   ]
  },
  {
   "cell_type": "code",
   "execution_count": 4,
   "metadata": {},
   "outputs": [
    {
     "data": {
      "text/plain": [
       "[1, 4, 9, 16, 25, 36, 49, 64, 81]"
      ]
     },
     "execution_count": 4,
     "metadata": {},
     "output_type": "execute_result"
    }
   ],
   "source": [
    "k2=list(map(squa,range(1,10)))\n",
    "k2"
   ]
  },
  {
   "cell_type": "code",
   "execution_count": 4,
   "metadata": {},
   "outputs": [
    {
     "name": "stdout",
     "output_type": "stream",
     "text": [
      "[1, 2, 3]\n"
     ]
    }
   ],
   "source": [
    "# filter()\n",
    "l=[1,2,3,\"a\",\"b\",\"c\"]\n",
    "def fun(c):\n",
    "    c=str(c)\n",
    "    if c.isdigit():\n",
    "            return True\n",
    "    return False\n",
    "k=list(filter(fun,l))\n",
    "print(k)"
   ]
  },
  {
   "cell_type": "code",
   "execution_count": 5,
   "metadata": {},
   "outputs": [
    {
     "data": {
      "text/plain": [
       "[2, 4, 6, 'aa', 'bb', 'cc']"
      ]
     },
     "execution_count": 5,
     "metadata": {},
     "output_type": "execute_result"
    }
   ],
   "source": [
    "k=list(map(lambda x:x*2,l))\n",
    "k"
   ]
  },
  {
   "cell_type": "code",
   "execution_count": 6,
   "metadata": {},
   "outputs": [
    {
     "data": {
      "text/plain": [
       "3.0"
      ]
     },
     "execution_count": 6,
     "metadata": {},
     "output_type": "execute_result"
    }
   ],
   "source": [
    "from math import sqrt\n",
    "k=sqrt(9)\n",
    "k"
   ]
  },
  {
   "cell_type": "markdown",
   "metadata": {},
   "source": [
    "# modules\n",
    "1. collection of phyton file function\n",
    "# packages\n",
    "1. collection of modules"
   ]
  },
  {
   "cell_type": "code",
   "execution_count": 17,
   "metadata": {},
   "outputs": [
    {
     "data": {
      "text/plain": [
       "90"
      ]
     },
     "execution_count": 17,
     "metadata": {},
     "output_type": "execute_result"
    }
   ],
   "source": [
    "import random\n",
    "random.randint(1,100)"
   ]
  },
  {
   "cell_type": "code",
   "execution_count": 18,
   "metadata": {},
   "outputs": [
    {
     "name": "stdout",
     "output_type": "stream",
     "text": [
      "[1, 4, 9, 16]\n"
     ]
    }
   ],
   "source": [
    "l=[1,2,3,4]\n",
    "n=[n**2 for n in l]\n",
    "print(n)\n"
   ]
  },
  {
   "cell_type": "code",
   "execution_count": 19,
   "metadata": {},
   "outputs": [
    {
     "name": "stdout",
     "output_type": "stream",
     "text": [
      "[1, 2, 3, 4, 5, 6, 7, 8, 9]\n"
     ]
    }
   ],
   "source": [
    "matrix=[[1,2,3],[4,5,6],[7,8,9]]\n",
    "flattened=[item for row in matrix for item in row]\n",
    "print(flattened)"
   ]
  },
  {
   "cell_type": "code",
   "execution_count": 21,
   "metadata": {},
   "outputs": [
    {
     "name": "stdout",
     "output_type": "stream",
     "text": [
      "[6, 18]\n"
     ]
    }
   ],
   "source": [
    "numbers=[1,2,3,4,5,6,18,20]\n",
    "squr=[number for number in numbers if number%2==0 if number%3==0]\n",
    "print(squr)"
   ]
  },
  {
   "cell_type": "code",
   "execution_count": 26,
   "metadata": {},
   "outputs": [
    {
     "name": "stdout",
     "output_type": "stream",
     "text": [
      "[2, 4, 6, 8]\n"
     ]
    }
   ],
   "source": [
    "numbers=[1,2,3,4,5,6,7,8,9,]\n",
    "w=[number for number  in numbers if number%2==0 ]\n",
    "print(w)"
   ]
  },
  {
   "cell_type": "code",
   "execution_count": 27,
   "metadata": {},
   "outputs": [
    {
     "data": {
      "text/plain": [
       "['even', 'odd ', 'even', 'odd ', 'even', 'odd ', 'even', 'odd ']"
      ]
     },
     "execution_count": 27,
     "metadata": {},
     "output_type": "execute_result"
    }
   ],
   "source": [
    "a=[\"even\"if i%2==0 else \"odd \"for i in range(8)]\n",
    "a"
   ]
  },
  {
   "cell_type": "code",
   "execution_count": 28,
   "metadata": {},
   "outputs": [
    {
     "data": {
      "text/plain": [
       "[[0, 1, 2, 3, 4], [0, 1, 2, 3, 4], [0, 1, 2, 3, 4]]"
      ]
     },
     "execution_count": 28,
     "metadata": {},
     "output_type": "execute_result"
    }
   ],
   "source": [
    "matrix =[[item for item in range(5)] for row in range(3)]\n",
    "matrix"
   ]
  },
  {
   "cell_type": "code",
   "execution_count": 34,
   "metadata": {},
   "outputs": [
    {
     "data": {
      "text/plain": [
       "[0, 1, 4, 9, 16, 25, 36, 49]"
      ]
     },
     "execution_count": 34,
     "metadata": {},
     "output_type": "execute_result"
    }
   ],
   "source": [
    "n=[a*a for a in range(8)]\n",
    "n"
   ]
  },
  {
   "cell_type": "code",
   "execution_count": 37,
   "metadata": {},
   "outputs": [
    {
     "name": "stdout",
     "output_type": "stream",
     "text": [
      "{'mango': 55.0, 'banana': 66.0, 'grapes': 77.0}\n"
     ]
    }
   ],
   "source": [
    "prices={\"mango\":55,\"banana\":66,\"grapes\":77}\n",
    "float_prices={key:float(value) for key, value in prices.items()}\n",
    "print(float_prices)"
   ]
  },
  {
   "cell_type": "code",
   "execution_count": null,
   "metadata": {},
   "outputs": [],
   "source": []
  }
 ],
 "metadata": {
  "kernelspec": {
   "display_name": "Python 3",
   "language": "python",
   "name": "python3"
  },
  "language_info": {
   "codemirror_mode": {
    "name": "ipython",
    "version": 3
   },
   "file_extension": ".py",
   "mimetype": "text/x-python",
   "name": "python",
   "nbconvert_exporter": "python",
   "pygments_lexer": "ipython3",
   "version": "3.7.1"
  }
 },
 "nbformat": 4,
 "nbformat_minor": 2
}
