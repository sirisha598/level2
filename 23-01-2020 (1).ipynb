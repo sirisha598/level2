{
 "cells": [
  {
   "cell_type": "code",
   "execution_count": 12,
   "metadata": {},
   "outputs": [
    {
     "name": "stdout",
     "output_type": "stream",
     "text": [
      "12 13 45 89\n",
      "12\n",
      "45\n"
     ]
    }
   ],
   "source": [
    "l=input().split()\n",
    "l= list(map(int,l))\n",
    "s=len(l)\n",
    "i=0\n",
    "for i in range(s):\n",
    "    if((l[i]%3==0)or(l[i]%5==0)or(l[i]%7==0)):\n",
    "        print(l[i])"
   ]
  },
  {
   "cell_type": "markdown",
   "metadata": {},
   "source": [
    "# Data science\n",
    "### NumPy - Numerical Python\n",
    "### Pandas - DataFrames and Series\n",
    "### MatplotLib - Visualization\n",
    "### Seaborn - makes difficult task easy\n",
    "### IPython - Interactive Python "
   ]
  },
  {
   "cell_type": "code",
   "execution_count": 2,
   "metadata": {},
   "outputs": [
    {
     "name": "stdout",
     "output_type": "stream",
     "text": [
      "[1 2 3 4]\n"
     ]
    },
    {
     "data": {
      "text/plain": [
       "numpy.ndarray"
      ]
     },
     "execution_count": 2,
     "metadata": {},
     "output_type": "execute_result"
    }
   ],
   "source": [
    "import numpy as np \n",
    "a  = np.array([1,2,3,4])\n",
    "print(a)\n",
    "type(a)"
   ]
  },
  {
   "cell_type": "code",
   "execution_count": 19,
   "metadata": {},
   "outputs": [
    {
     "name": "stdout",
     "output_type": "stream",
     "text": [
      "[[1 2 3 4]\n",
      " [5 6 7 8]]\n"
     ]
    },
    {
     "data": {
      "text/plain": [
       "numpy.ndarray"
      ]
     },
     "execution_count": 19,
     "metadata": {},
     "output_type": "execute_result"
    }
   ],
   "source": [
    "a_2d = np.array([[1,2,3,4],[5,6,7,8]])\n",
    "print(a_2d)\n",
    "type(a_2d)"
   ]
  },
  {
   "cell_type": "code",
   "execution_count": 18,
   "metadata": {},
   "outputs": [
    {
     "name": "stdout",
     "output_type": "stream",
     "text": [
      "[1 3 5 7 8]\n"
     ]
    }
   ],
   "source": [
    "li = [1,3,5,7,8]\n",
    "l_a = np.array(li)\n",
    "print(l_a)"
   ]
  },
  {
   "cell_type": "markdown",
   "metadata": {},
   "source": [
    "### ndim - returns the no of dimenisons of the array\n",
    "### shape - returns the length of array\n",
    "### size - size of an array\n",
    "### itemsize - returns the size of an element\n",
    "### dtype - returns the type of an array"
   ]
  },
  {
   "cell_type": "code",
   "execution_count": 20,
   "metadata": {},
   "outputs": [
    {
     "name": "stdout",
     "output_type": "stream",
     "text": [
      "[ 0  1  2  3  4  5  6  7  8  9 10 11]\n"
     ]
    }
   ],
   "source": [
    "a = np.arange(12)\n",
    "print(a)"
   ]
  },
  {
   "cell_type": "code",
   "execution_count": 26,
   "metadata": {},
   "outputs": [
    {
     "name": "stdout",
     "output_type": "stream",
     "text": [
      "[26 11 42 37 11 34  8 14  9 35]\n",
      "1\n",
      "(10,)\n",
      "10\n",
      "4\n",
      "int32\n"
     ]
    }
   ],
   "source": [
    " n =  np.random.randint(0,50,10)\n",
    "print(n)\n",
    "print(n.ndim)\n",
    "print(n.shape)\n",
    "print(n.size)\n",
    "print(n.itemsize)\n",
    "print(n.dtype)"
   ]
  },
  {
   "cell_type": "code",
   "execution_count": 30,
   "metadata": {},
   "outputs": [
    {
     "name": "stdout",
     "output_type": "stream",
     "text": [
      "[[31 11 37 26]\n",
      " [30 37 29 31]\n",
      " [41 27 33 29]]\n"
     ]
    },
    {
     "data": {
      "text/plain": [
       "array([[41, 27, 33, 29],\n",
       "       [30, 37, 29, 31],\n",
       "       [31, 11, 37, 26]])"
      ]
     },
     "execution_count": 30,
     "metadata": {},
     "output_type": "execute_result"
    }
   ],
   "source": [
    "n =  np.random.randint(0,50,size = 12).reshape(3,4)\n",
    "print(n)\n",
    "n.ndim\n",
    "n[::-1]"
   ]
  },
  {
   "cell_type": "code",
   "execution_count": 36,
   "metadata": {},
   "outputs": [
    {
     "name": "stdout",
     "output_type": "stream",
     "text": [
      "[1. 1. 1. 1. 1. 1. 1. 1. 1.]\n",
      "[0. 0. 0. 0. 0. 0. 0. 0.]\n"
     ]
    }
   ],
   "source": [
    "n = np.ones(9)\n",
    "m = np.zeros(8)\n",
    "print(n)\n",
    "print(m)"
   ]
  },
  {
   "cell_type": "code",
   "execution_count": 38,
   "metadata": {},
   "outputs": [
    {
     "name": "stdout",
     "output_type": "stream",
     "text": [
      "[0.         0.33333333 0.66666667 1.         1.33333333 1.66666667\n",
      " 2.        ]\n"
     ]
    }
   ],
   "source": [
    "k = np.linspace(0,2,7)\n",
    "print(k)"
   ]
  },
  {
   "cell_type": "code",
   "execution_count": 42,
   "metadata": {},
   "outputs": [
    {
     "name": "stdout",
     "output_type": "stream",
     "text": [
      "[[9 9]\n",
      " [9 9]]\n"
     ]
    }
   ],
   "source": [
    "f = np.full((2,2),9)\n",
    "print(f)"
   ]
  },
  {
   "cell_type": "code",
   "execution_count": 44,
   "metadata": {},
   "outputs": [
    {
     "name": "stdout",
     "output_type": "stream",
     "text": [
      "[[1. 0. 0. 0. 0.]\n",
      " [0. 1. 0. 0. 0.]\n",
      " [0. 0. 1. 0. 0.]\n",
      " [0. 0. 0. 1. 0.]\n",
      " [0. 0. 0. 0. 1.]]\n"
     ]
    }
   ],
   "source": [
    "e = np.eye(5)\n",
    "print(e)"
   ]
  },
  {
   "cell_type": "code",
   "execution_count": 46,
   "metadata": {},
   "outputs": [
    {
     "name": "stdout",
     "output_type": "stream",
     "text": [
      "[[3.56043053e-307 1.60219306e-306]\n",
      " [7.56571288e-307 1.89146896e-307]\n",
      " [1.37961302e-306 1.05699242e-307]\n",
      " [8.01097889e-307 1.24610723e-306]\n",
      " [8.34444713e-308 2.29179042e-312]]\n"
     ]
    }
   ],
   "source": [
    "em = np.empty((5,2))\n",
    "print(em)"
   ]
  },
  {
   "cell_type": "code",
   "execution_count": 47,
   "metadata": {},
   "outputs": [
    {
     "data": {
      "text/plain": [
       "array([0.25, 0.5 , 0.75, 1.  , 1.25, 1.5 , 1.75, 2.  ])"
      ]
     },
     "execution_count": 47,
     "metadata": {},
     "output_type": "execute_result"
    }
   ],
   "source": [
    "em = np.empty(8)\n",
    "em"
   ]
  },
  {
   "cell_type": "code",
   "execution_count": 54,
   "metadata": {},
   "outputs": [
    {
     "name": "stdout",
     "output_type": "stream",
     "text": [
      "[[[ 2  4  5]\n",
      "  [ 9 56  4]]]\n"
     ]
    },
    {
     "data": {
      "text/plain": [
       "array([[ 2,  4,  5,  9, 56,  4]])"
      ]
     },
     "execution_count": 54,
     "metadata": {},
     "output_type": "execute_result"
    }
   ],
   "source": [
    "c = np.array([[[2,4,5],[9,56,4]]])\n",
    "print(c)\n",
    "c.ndim\n",
    "c.reshape(1,6)"
   ]
  },
  {
   "cell_type": "code",
   "execution_count": 53,
   "metadata": {},
   "outputs": [
    {
     "data": {
      "text/plain": [
       "array([ 2,  4,  5,  9, 56,  4])"
      ]
     },
     "execution_count": 53,
     "metadata": {},
     "output_type": "execute_result"
    }
   ],
   "source": [
    "c.ravel()"
   ]
  },
  {
   "cell_type": "code",
   "execution_count": 3,
   "metadata": {},
   "outputs": [
    {
     "name": "stdout",
     "output_type": "stream",
     "text": [
      "101\n",
      "-33\n",
      "2278\n",
      "0.5074626865671642\n",
      "10.0\n",
      "0.5290826861200238\n",
      "-0.5177697997895051\n",
      "6.235149080811617e+27\n",
      "1.3862943611198906\n"
     ]
    }
   ],
   "source": [
    "a = 34\n",
    "b = 67\n",
    "print(np.add(a,b))\n",
    "print(np.subtract(a,b))\n",
    "print(np.multiply(a,b))\n",
    "print(np.divide(a,b))\n",
    "print(np.sqrt(100))\n",
    "print(np.sin(a))\n",
    "print(np.cos(b))\n",
    "print(np.exp(64))\n",
    "print(np.log(4))"
   ]
  },
  {
   "cell_type": "code",
   "execution_count": 16,
   "metadata": {},
   "outputs": [
    {
     "name": "stdout",
     "output_type": "stream",
     "text": [
      "[[ 0  1  2  3  4  5]\n",
      " [ 6  7  8  9 10 11]\n",
      " [12 13 14 15 16 17]]\n",
      "max 17\n",
      "min [0 1 2 3 4 5]\n",
      "[ 5 11 17]\n",
      "sum 153\n",
      "cumsum [  0   1   3   6  10  15  21  28  36  45  55  66  78  91 105 120 136 153]\n",
      "mean 8.5\n",
      "median 8.5\n",
      "0.0\n"
     ]
    }
   ],
   "source": [
    "a = np.arange(18).reshape(3,6)\n",
    "print(a)\n",
    "print(\"max\",a.max())\n",
    "print(\"min\",a.min(axis = 0 ))\n",
    "print(a.max(axis=1))\n",
    "print(\"sum\",a.sum())\n",
    "print(\"cumsum\",a.cumsum())\n",
    "print(\"mean\",np.mean(a))\n",
    "print(\"median\",np.median(a))\n",
    "print(np.std(b))"
   ]
  },
  {
   "cell_type": "code",
   "execution_count": 17,
   "metadata": {},
   "outputs": [],
   "source": [
    "sa = np.array([23,45,98,1,2,3,4,76,6754])\n",
    "sa.sort()"
   ]
  },
  {
   "cell_type": "code",
   "execution_count": 18,
   "metadata": {},
   "outputs": [
    {
     "data": {
      "text/plain": [
       "array([   1,    2,    3,    4,   23,   45,   76,   98, 6754])"
      ]
     },
     "execution_count": 18,
     "metadata": {},
     "output_type": "execute_result"
    }
   ],
   "source": [
    "sa"
   ]
  },
  {
   "cell_type": "code",
   "execution_count": 24,
   "metadata": {},
   "outputs": [
    {
     "name": "stdout",
     "output_type": "stream",
     "text": [
      "[[  23   45   98]\n",
      " [   1    2    3]\n",
      " [   4   76 6754]]\n",
      "transpose \n",
      " [[  23    1    4]\n",
      " [  45    2   76]\n",
      " [  98    3 6754]]\n"
     ]
    },
    {
     "data": {
      "text/plain": [
       "array([[  23,    1,    4],\n",
       "       [  45,    2,   76],\n",
       "       [  98,    3, 6754]])"
      ]
     },
     "execution_count": 24,
     "metadata": {},
     "output_type": "execute_result"
    }
   ],
   "source": [
    "s = np.array([[23,45,98],[1,2,3],[4,76,6754]])\n",
    "print(s)\n",
    "print(\"transpose \\n\",np.transpose(s))\n",
    "s.T"
   ]
  },
  {
   "cell_type": "code",
   "execution_count": 29,
   "metadata": {},
   "outputs": [
    {
     "name": "stdout",
     "output_type": "stream",
     "text": [
      "[array([[23],\n",
      "       [ 1],\n",
      "       [ 4]]), array([[45],\n",
      "       [ 2],\n",
      "       [76]]), array([[  98],\n",
      "       [   3],\n",
      "       [6754]])]\n",
      "[array([[23, 45, 98]]), array([[1, 2, 3]]), array([[   4,   76, 6754]])]\n"
     ]
    }
   ],
   "source": [
    "print(np.hsplit(s,3))\n",
    "print(np.vsplit(s,3))"
   ]
  },
  {
   "cell_type": "code",
   "execution_count": 35,
   "metadata": {},
   "outputs": [
    {
     "data": {
      "text/plain": [
       "array([  23,   45,   98,    1,    2,    3,    4,   76, 6754,   12,    5,\n",
       "         24])"
      ]
     },
     "execution_count": 35,
     "metadata": {},
     "output_type": "execute_result"
    }
   ],
   "source": [
    "s1 = np.array([23,45,98,1,2,3,4,76,6754,12,5,24])\n",
    "s1"
   ]
  },
  {
   "cell_type": "code",
   "execution_count": 36,
   "metadata": {},
   "outputs": [
    {
     "data": {
      "text/plain": [
       "[array([23, 45, 98,  1]),\n",
       " array([ 2,  3,  4, 76]),\n",
       " array([6754,   12,    5,   24])]"
      ]
     },
     "execution_count": 36,
     "metadata": {},
     "output_type": "execute_result"
    }
   ],
   "source": [
    "np.hsplit(s1,3)"
   ]
  },
  {
   "cell_type": "code",
   "execution_count": 38,
   "metadata": {},
   "outputs": [
    {
     "data": {
      "text/plain": [
       "array([23, 45, 98])"
      ]
     },
     "execution_count": 38,
     "metadata": {},
     "output_type": "execute_result"
    }
   ],
   "source": [
    "s = np.array([[23,45,98],[1,2,3],[4,76,6754]])\n",
    "s[0]"
   ]
  },
  {
   "cell_type": "code",
   "execution_count": 45,
   "metadata": {},
   "outputs": [
    {
     "name": "stdout",
     "output_type": "stream",
     "text": [
      "[[23 45 98]\n",
      " [ 1  2  3]]\n"
     ]
    },
    {
     "data": {
      "text/plain": [
       "4"
      ]
     },
     "execution_count": 45,
     "metadata": {},
     "output_type": "execute_result"
    }
   ],
   "source": [
    "print(s[0:2])\n",
    "s[0:2,1]\n",
    "s[2,0]"
   ]
  },
  {
   "cell_type": "code",
   "execution_count": null,
   "metadata": {},
   "outputs": [],
   "source": []
  }
 ],
 "metadata": {
  "kernelspec": {
   "display_name": "Python 3",
   "language": "python",
   "name": "python3"
  },
  "language_info": {
   "codemirror_mode": {
    "name": "ipython",
    "version": 3
   },
   "file_extension": ".py",
   "mimetype": "text/x-python",
   "name": "python",
   "nbconvert_exporter": "python",
   "pygments_lexer": "ipython3",
   "version": "3.7.4"
  }
 },
 "nbformat": 4,
 "nbformat_minor": 2
}
